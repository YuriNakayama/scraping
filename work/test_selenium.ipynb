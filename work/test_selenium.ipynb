{
 "cells": [
  {
   "cell_type": "code",
   "execution_count": 9,
   "id": "cb982ad3",
   "metadata": {},
   "outputs": [],
   "source": [
    "import os\n",
    "import pandas\n",
    "#import chromedriver_binary\n",
    "\n",
    "from selenium import webdriver\n",
    "from selenium.webdriver.chrome.options import Options\n",
    "from selenium.webdriver.common.by import By\n",
    "from selenium.webdriver.common.desired_capabilities import DesiredCapabilities\n",
    "from selenium.webdriver.common.keys import Keys\n",
    "from selenium.webdriver.support.expected_conditions import presence_of_element_located\n",
    "from selenium.webdriver.support.ui import WebDriverWait"
   ]
  },
  {
   "cell_type": "code",
   "execution_count": 53,
   "id": "0ed73353",
   "metadata": {},
   "outputs": [],
   "source": [
    "options = Options()\n",
    "options.add_argument('--headless')\n",
    "options.add_argument('--no-sandbox')\n",
    "options.add_argument(\"--disable-dev-shm-usage\")\n",
    "driver = webdriver.Remote(\n",
    "    command_executor=os.environ[\"SELENIUM_URL\"], options=options\n",
    ")"
   ]
  },
  {
   "cell_type": "code",
   "execution_count": 54,
   "id": "0f44ba61",
   "metadata": {},
   "outputs": [],
   "source": [
    "start_url = \"https://tenshoku.mynavi.jp/list/o19105/\""
   ]
  },
  {
   "cell_type": "code",
   "execution_count": 55,
   "id": "f79e1e8d",
   "metadata": {},
   "outputs": [],
   "source": [
    "# ドライバとタイムアウト値を指定\n",
    "wait = WebDriverWait(driver, 10)\n",
    "\n",
    "driver.get(start_url)\n",
    "# \"selenium\"で検索\n",
    "list_size = int(driver.find_element(By.XPATH, \"/html/body/div[1]/div[3]/div[2]/div/p[2]/em\").text)"
   ]
  },
  {
   "cell_type": "code",
   "execution_count": 58,
   "id": "80bb3333",
   "metadata": {},
   "outputs": [],
   "source": [
    "company = []\n",
    "for item in range(list_size):\n",
    "    company.append(driver.find_element(By.XPATH, f\"/html/body/div[1]/div[3]/form/div/div[{item + 1}]/div/section/h3\").text)"
   ]
  },
  {
   "cell_type": "code",
   "execution_count": 59,
   "id": "2afdf377",
   "metadata": {},
   "outputs": [
    {
     "data": {
      "text/plain": [
       "['RGF Select India Private Limited',\n",
       " '株式会社日立コンサルティング',\n",
       " 'アビームコンサルティング株式会社',\n",
       " '株式会社日立コンサルティング',\n",
       " 'アビームコンサルティング株式会社',\n",
       " '株式会社NTTデータ経営研究所 | 事業変革とイノベーションの専門集団',\n",
       " 'REERACOEN VIETNAM CO.,LTD',\n",
       " '株式会社ベイカレント・コンサルティング | 東証プライム上場',\n",
       " '株式会社ベイカレント・コンサルティング | 東証プライム上場',\n",
       " 'QUICK VIETNAM Co.,Ltd.',\n",
       " '株式会社 日立製作所',\n",
       " '株式会社アクアードコンサルティング | ＜知識ゼロでOK！意欲重視の採用＞年間休日125日・土日祝休み',\n",
       " '株式会社Trueone | 完全週休2日制(土日祝)*年休120日以上*残業月20以下*10時出社',\n",
       " 'リーガルデザイン行政書士事務所 | ★年間休日120日以上★土日祝休★資格取得支援あり★20代活躍中',\n",
       " 'ＢＭＳアソシエイツ株式会社 | 新進気鋭の成長企業！★10連休可/転勤なし/資格手当も充実◎',\n",
       " '名南M&A株式会社 | 【名南グループ】M&A事業において東海地区トップクラスの実績！',\n",
       " 'スタジオアンビルト株式会社 | 建築の新しいワークスタイルを創造する会社◆リモートワーク可能',\n",
       " 'スタジオアンビルト株式会社 | 建築の新しいワークスタイルを創造する会社◆リモートワーク可能',\n",
       " '株式会社創造経営センター | 【日本創造経営グループ】☆福利厚生充実',\n",
       " '株式会社サクシード | 埼玉・東京・栃木に拠点を構える地域密着型コンサルティング会社',\n",
       " '株式会社アイドマ・ホールディングス | 働き方に革命を起こすビジネスモデル提案→世界の可能性を広げる',\n",
       " '株式会社リンクスタッフグループ | 今期150％超の着地見込み！新たなステージを目指して日々前進！',\n",
       " '株式会社日本シナジー | 【企業と行政をつなぐ架け橋に】完全土日休／毎月昇給のチャンス',\n",
       " 'アビームコンサルティング株式会社',\n",
       " 'G.A. Consultants Vietnam Co., Ltd.',\n",
       " 'RGF Select India Private Limited',\n",
       " 'フロッグウェル株式会社 | 《メリハリある働き方》#土日祝休み ＃有休消化80％超で手当支給',\n",
       " '株式会社NODE | 2019年設立の急成長ベンチャー|CX・DXを通じ企業の成長を支える',\n",
       " '北海道商工会連合会',\n",
       " '株式会社東京コンサルティングファーム | ★27ヶ国44拠点／未経験歓迎／WEB面接OK★',\n",
       " '株式会社Lupinus | 【設立から売上2倍以上UP】＃年休120日＃土日祝休＃在宅勤務も可',\n",
       " '株式会社ブレイン・ラボ | ◆人材サービス向けSaaS型自社パッケージで業界シェアTOPクラス',\n",
       " '西部瓦斯株式会社 | 【東証一部上場】エネルギーとくらしの総合サービス企業グループ',\n",
       " '税理士法人We will | 週休2日制(土日休み)｜年間休日120日｜働きながら資格取得！',\n",
       " '株式会社リグア | ★東証マザーズ上場★取引院数は3000院以上★治療院の経営支援',\n",
       " '株式会社M&Aベストパートナーズ | ◆年間休日120日以上｜完全週休2日｜転勤なし｜駅チカ',\n",
       " '株式会社サクシード | 栃木・埼玉・東京に拠点を構える地域密着型コンサルティング会社',\n",
       " '株式会社みどり財産コンサルタンツ | 《みどり合同税理士法人グループ》充実の仕事とキャリアを実現◎']"
      ]
     },
     "execution_count": 59,
     "metadata": {},
     "output_type": "execute_result"
    }
   ],
   "source": [
    "company"
   ]
  },
  {
   "cell_type": "code",
   "execution_count": null,
   "id": "861e050a",
   "metadata": {},
   "outputs": [],
   "source": []
  },
  {
   "cell_type": "code",
   "execution_count": null,
   "id": "f2ecdf9f",
   "metadata": {},
   "outputs": [],
   "source": []
  },
  {
   "cell_type": "code",
   "execution_count": null,
   "id": "c144bd86",
   "metadata": {},
   "outputs": [],
   "source": []
  },
  {
   "cell_type": "code",
   "execution_count": null,
   "id": "863fa654",
   "metadata": {},
   "outputs": [],
   "source": []
  }
 ],
 "metadata": {
  "kernelspec": {
   "display_name": "Python 3 (ipykernel)",
   "language": "python",
   "name": "python3"
  },
  "language_info": {
   "codemirror_mode": {
    "name": "ipython",
    "version": 3
   },
   "file_extension": ".py",
   "mimetype": "text/x-python",
   "name": "python",
   "nbconvert_exporter": "python",
   "pygments_lexer": "ipython3",
   "version": "3.9.10"
  },
  "varInspector": {
   "cols": {
    "lenName": 16,
    "lenType": 16,
    "lenVar": 40
   },
   "kernels_config": {
    "python": {
     "delete_cmd_postfix": "",
     "delete_cmd_prefix": "del ",
     "library": "var_list.py",
     "varRefreshCmd": "print(var_dic_list())"
    },
    "r": {
     "delete_cmd_postfix": ") ",
     "delete_cmd_prefix": "rm(",
     "library": "var_list.r",
     "varRefreshCmd": "cat(var_dic_list()) "
    }
   },
   "types_to_exclude": [
    "module",
    "function",
    "builtin_function_or_method",
    "instance",
    "_Feature"
   ],
   "window_display": false
  }
 },
 "nbformat": 4,
 "nbformat_minor": 5
}
